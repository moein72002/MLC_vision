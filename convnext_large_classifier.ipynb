{
  "cells": [
    {
      "cell_type": "code",
      "execution_count": null,
      "metadata": {
        "id": "HQNiEwqWBc5x",
        "colab": {
          "base_uri": "https://localhost:8080/"
        },
        "outputId": "1f85b414-b044-4eb6-b856-7c0a2bec1ad6"
      },
      "outputs": [
        {
          "output_type": "stream",
          "name": "stdout",
          "text": [
            "Downloading...\n",
            "From: https://drive.google.com/uc?id=1IZr7DYItUyP9uRHAMSILKTQrmBBcgCJQ\n",
            "To: /content/Animals_train.zip\n",
            "100% 1.16G/1.16G [00:04<00:00, 273MB/s]\n"
          ]
        }
      ],
      "source": [
        "!gdown 1IZr7DYItUyP9uRHAMSILKTQrmBBcgCJQ"
      ]
    },
    {
      "cell_type": "code",
      "execution_count": null,
      "metadata": {
        "id": "DWgoee1ZDQes"
      },
      "outputs": [],
      "source": [
        "from torchvision import datasets, transforms\n",
        "from torchsummary import summary\n",
        "from torch.utils import data\n",
        "from torch.optim import Adam\n",
        "from torch import nn\n",
        "import torch.nn.functional as f\n",
        "import torch\n",
        "import tqdm\n",
        "from datetime import datetime"
      ]
    },
    {
      "cell_type": "code",
      "execution_count": null,
      "metadata": {
        "id": "2ensUiYNBrPZ"
      },
      "outputs": [],
      "source": [
        "import zipfile\n",
        "zip_path = 'Animals_train.zip'\n",
        "\n",
        "with zipfile.ZipFile(zip_path, 'r') as zip_ref:\n",
        "  zip_ref.extractall()"
      ]
    },
    {
      "cell_type": "code",
      "execution_count": null,
      "metadata": {
        "id": "Nmcp-wk3Cx8N"
      },
      "outputs": [],
      "source": [
        "transform = transforms.Compose([\n",
        "    transforms.Resize(256),\n",
        "    # transforms.CenterCrop(224),\n",
        "    # transforms.RandomCrop(200),\n",
        "])"
      ]
    },
    {
      "cell_type": "code",
      "execution_count": null,
      "metadata": {
        "id": "h9Pvj1s7D2AJ"
      },
      "outputs": [],
      "source": [
        "dataset = datasets.ImageFolder(root='Data/Animals/train', transform=transform)"
      ]
    },
    {
      "cell_type": "code",
      "execution_count": null,
      "metadata": {
        "id": "RBeZpdZREEqp"
      },
      "outputs": [],
      "source": [
        "train_size = int(0.8 * len(dataset))\n",
        "val_size = (len(dataset) - train_size) // 2\n",
        "test_size = len(dataset) - train_size - val_size\n",
        "trainset, valset, testset = data.random_split(dataset, [train_size, val_size, test_size])\n",
        "# train_dataset, val_dataset, test_dataset = data.random_split(dataset, [train_size, val_size, test_size])"
      ]
    },
    {
      "cell_type": "code",
      "execution_count": null,
      "metadata": {
        "id": "zG9L7Z_3mT6O"
      },
      "outputs": [],
      "source": [
        "train_transforms = transforms.Compose([\n",
        "    transforms.RandomCrop(size=200),\n",
        "    transforms.RandomHorizontalFlip(),\n",
        "    transforms.RandomRotation(20),\n",
        "    transforms.ToTensor(),\n",
        "    # transforms.Normalize(mean=[0.5, 0.5, 0.5], std=[0.5, 0.5, 0.5])\n",
        "])\n",
        "\n",
        "test_transforms = transforms.Compose([\n",
        "    transforms.CenterCrop(size=200),\n",
        "    transforms.ToTensor(),\n",
        "    # transforms.Normalize(mean=[0.5, 0.5, 0.5], std=[0.5, 0.5, 0.5])\n",
        "])\n"
      ]
    },
    {
      "cell_type": "code",
      "execution_count": null,
      "metadata": {
        "id": "E3ST5W45UWp7"
      },
      "outputs": [],
      "source": [
        "class MyDataset(data.Dataset):\n",
        "    def __init__(self, subset, transform=None):\n",
        "        self.subset = subset\n",
        "        self.transform = transform\n",
        "\n",
        "    def __getitem__(self, index):\n",
        "        x, y = self.subset[index]\n",
        "        if self.transform:\n",
        "            x = self.transform(x)\n",
        "        return x, y\n",
        "\n",
        "    def __len__(self):\n",
        "        return len(self.subset)\n",
        "\n",
        "\n",
        "train_subset = MyDataset(trainset, transform=train_transforms)\n",
        "val_subset = MyDataset(valset, transform=test_transforms)\n",
        "test_subset = MyDataset(testset, transform=test_transforms)"
      ]
    },
    {
      "cell_type": "code",
      "execution_count": null,
      "metadata": {
        "id": "p1qno6vRGH1z"
      },
      "outputs": [],
      "source": [
        "batch_size = 32\n",
        "train_loader = data.DataLoader(train_subset, batch_size=batch_size, shuffle=True)\n",
        "val_loader = data.DataLoader(val_subset , batch_size=batch_size)\n",
        "test_loader = data.DataLoader(test_subset, batch_size=batch_size)"
      ]
    },
    {
      "cell_type": "code",
      "execution_count": null,
      "metadata": {
        "id": "q1qyssr7HhMK"
      },
      "outputs": [],
      "source": [
        "from torchvision import models\n",
        "\n",
        "\n",
        "class MyModel(nn.Module):\n",
        "  def __init__(self):\n",
        "    super().__init__()\n",
        "    self.convnext_large = models.convnext_base(pretrained=True)\n",
        "    in_features = self.convnext_large.classifier[-1].in_features\n",
        "    self.convnext_large.classifier[-1] = nn.Linear(in_features, 64)\n",
        "    self.linear1 = nn.Linear(64, 8)\n",
        "\n",
        "  def forward(self, x):\n",
        "    x = self.convnext_base(x)\n",
        "    x = f.sigmoid(x)\n",
        "    x = self.linear1(x)\n",
        "    return x\n"
      ]
    },
    {
      "cell_type": "code",
      "execution_count": null,
      "metadata": {
        "id": "X3EyzL8ckAEi"
      },
      "outputs": [],
      "source": [
        "model = MyModel()"
      ]
    },
    {
      "cell_type": "code",
      "execution_count": null,
      "metadata": {
        "id": "C31_G-0bdqJA"
      },
      "outputs": [],
      "source": [
        "for param in model.convnext_large.parameters():\n",
        "    param.requires_grad = False\n",
        "\n",
        "for param in model.convnext_large.classifier[-1].parameters():\n",
        "    param.requires_grad = True\n",
        "\n",
        "# for param in model.convnext_base.classifier[1].parameters():\n",
        "#     param.requires_grad = True"
      ]
    },
    {
      "cell_type": "code",
      "execution_count": null,
      "metadata": {
        "id": "5u7KkFEBRycZ",
        "colab": {
          "base_uri": "https://localhost:8080/",
          "height": 35
        },
        "outputId": "e90f7925-176b-4d5a-8315-98339f089bff"
      },
      "outputs": [
        {
          "output_type": "execute_result",
          "data": {
            "text/plain": [
              "'cuda'"
            ],
            "application/vnd.google.colaboratory.intrinsic+json": {
              "type": "string"
            }
          },
          "metadata": {},
          "execution_count": 23
        }
      ],
      "source": [
        "device = 'cuda' if torch.cuda.is_available() else 'cpu'\n",
        "device"
      ]
    },
    {
      "cell_type": "code",
      "execution_count": null,
      "metadata": {
        "id": "BAuj8FkYR72B",
        "colab": {
          "base_uri": "https://localhost:8080/"
        },
        "outputId": "d019acf8-8f93-4a5b-da15-5fb4513ca807"
      },
      "outputs": [
        {
          "output_type": "stream",
          "name": "stdout",
          "text": [
            "----------------------------------------------------------------\n",
            "        Layer (type)               Output Shape         Param #\n",
            "================================================================\n",
            "            Conv2d-1          [-1, 128, 55, 55]           6,272\n",
            "       LayerNorm2d-2          [-1, 128, 55, 55]             256\n",
            "            Conv2d-3          [-1, 128, 55, 55]           6,400\n",
            "           Permute-4          [-1, 55, 55, 128]               0\n",
            "         LayerNorm-5          [-1, 55, 55, 128]             256\n",
            "            Linear-6          [-1, 55, 55, 512]          66,048\n",
            "              GELU-7          [-1, 55, 55, 512]               0\n",
            "            Linear-8          [-1, 55, 55, 128]          65,664\n",
            "           Permute-9          [-1, 128, 55, 55]               0\n",
            "  StochasticDepth-10          [-1, 128, 55, 55]               0\n",
            "          CNBlock-11          [-1, 128, 55, 55]               0\n",
            "           Conv2d-12          [-1, 128, 55, 55]           6,400\n",
            "          Permute-13          [-1, 55, 55, 128]               0\n",
            "        LayerNorm-14          [-1, 55, 55, 128]             256\n",
            "           Linear-15          [-1, 55, 55, 512]          66,048\n",
            "             GELU-16          [-1, 55, 55, 512]               0\n",
            "           Linear-17          [-1, 55, 55, 128]          65,664\n",
            "          Permute-18          [-1, 128, 55, 55]               0\n",
            "  StochasticDepth-19          [-1, 128, 55, 55]               0\n",
            "          CNBlock-20          [-1, 128, 55, 55]               0\n",
            "           Conv2d-21          [-1, 128, 55, 55]           6,400\n",
            "          Permute-22          [-1, 55, 55, 128]               0\n",
            "        LayerNorm-23          [-1, 55, 55, 128]             256\n",
            "           Linear-24          [-1, 55, 55, 512]          66,048\n",
            "             GELU-25          [-1, 55, 55, 512]               0\n",
            "           Linear-26          [-1, 55, 55, 128]          65,664\n",
            "          Permute-27          [-1, 128, 55, 55]               0\n",
            "  StochasticDepth-28          [-1, 128, 55, 55]               0\n",
            "          CNBlock-29          [-1, 128, 55, 55]               0\n",
            "      LayerNorm2d-30          [-1, 128, 55, 55]             256\n",
            "           Conv2d-31          [-1, 256, 27, 27]         131,328\n",
            "           Conv2d-32          [-1, 256, 27, 27]          12,800\n",
            "          Permute-33          [-1, 27, 27, 256]               0\n",
            "        LayerNorm-34          [-1, 27, 27, 256]             512\n",
            "           Linear-35         [-1, 27, 27, 1024]         263,168\n",
            "             GELU-36         [-1, 27, 27, 1024]               0\n",
            "           Linear-37          [-1, 27, 27, 256]         262,400\n",
            "          Permute-38          [-1, 256, 27, 27]               0\n",
            "  StochasticDepth-39          [-1, 256, 27, 27]               0\n",
            "          CNBlock-40          [-1, 256, 27, 27]               0\n",
            "           Conv2d-41          [-1, 256, 27, 27]          12,800\n",
            "          Permute-42          [-1, 27, 27, 256]               0\n",
            "        LayerNorm-43          [-1, 27, 27, 256]             512\n",
            "           Linear-44         [-1, 27, 27, 1024]         263,168\n",
            "             GELU-45         [-1, 27, 27, 1024]               0\n",
            "           Linear-46          [-1, 27, 27, 256]         262,400\n",
            "          Permute-47          [-1, 256, 27, 27]               0\n",
            "  StochasticDepth-48          [-1, 256, 27, 27]               0\n",
            "          CNBlock-49          [-1, 256, 27, 27]               0\n",
            "           Conv2d-50          [-1, 256, 27, 27]          12,800\n",
            "          Permute-51          [-1, 27, 27, 256]               0\n",
            "        LayerNorm-52          [-1, 27, 27, 256]             512\n",
            "           Linear-53         [-1, 27, 27, 1024]         263,168\n",
            "             GELU-54         [-1, 27, 27, 1024]               0\n",
            "           Linear-55          [-1, 27, 27, 256]         262,400\n",
            "          Permute-56          [-1, 256, 27, 27]               0\n",
            "  StochasticDepth-57          [-1, 256, 27, 27]               0\n",
            "          CNBlock-58          [-1, 256, 27, 27]               0\n",
            "      LayerNorm2d-59          [-1, 256, 27, 27]             512\n",
            "           Conv2d-60          [-1, 512, 13, 13]         524,800\n",
            "           Conv2d-61          [-1, 512, 13, 13]          25,600\n",
            "          Permute-62          [-1, 13, 13, 512]               0\n",
            "        LayerNorm-63          [-1, 13, 13, 512]           1,024\n",
            "           Linear-64         [-1, 13, 13, 2048]       1,050,624\n",
            "             GELU-65         [-1, 13, 13, 2048]               0\n",
            "           Linear-66          [-1, 13, 13, 512]       1,049,088\n",
            "          Permute-67          [-1, 512, 13, 13]               0\n",
            "  StochasticDepth-68          [-1, 512, 13, 13]               0\n",
            "          CNBlock-69          [-1, 512, 13, 13]               0\n",
            "           Conv2d-70          [-1, 512, 13, 13]          25,600\n",
            "          Permute-71          [-1, 13, 13, 512]               0\n",
            "        LayerNorm-72          [-1, 13, 13, 512]           1,024\n",
            "           Linear-73         [-1, 13, 13, 2048]       1,050,624\n",
            "             GELU-74         [-1, 13, 13, 2048]               0\n",
            "           Linear-75          [-1, 13, 13, 512]       1,049,088\n",
            "          Permute-76          [-1, 512, 13, 13]               0\n",
            "  StochasticDepth-77          [-1, 512, 13, 13]               0\n",
            "          CNBlock-78          [-1, 512, 13, 13]               0\n",
            "           Conv2d-79          [-1, 512, 13, 13]          25,600\n",
            "          Permute-80          [-1, 13, 13, 512]               0\n",
            "        LayerNorm-81          [-1, 13, 13, 512]           1,024\n",
            "           Linear-82         [-1, 13, 13, 2048]       1,050,624\n",
            "             GELU-83         [-1, 13, 13, 2048]               0\n",
            "           Linear-84          [-1, 13, 13, 512]       1,049,088\n",
            "          Permute-85          [-1, 512, 13, 13]               0\n",
            "  StochasticDepth-86          [-1, 512, 13, 13]               0\n",
            "          CNBlock-87          [-1, 512, 13, 13]               0\n",
            "           Conv2d-88          [-1, 512, 13, 13]          25,600\n",
            "          Permute-89          [-1, 13, 13, 512]               0\n",
            "        LayerNorm-90          [-1, 13, 13, 512]           1,024\n",
            "           Linear-91         [-1, 13, 13, 2048]       1,050,624\n",
            "             GELU-92         [-1, 13, 13, 2048]               0\n",
            "           Linear-93          [-1, 13, 13, 512]       1,049,088\n",
            "          Permute-94          [-1, 512, 13, 13]               0\n",
            "  StochasticDepth-95          [-1, 512, 13, 13]               0\n",
            "          CNBlock-96          [-1, 512, 13, 13]               0\n",
            "           Conv2d-97          [-1, 512, 13, 13]          25,600\n",
            "          Permute-98          [-1, 13, 13, 512]               0\n",
            "        LayerNorm-99          [-1, 13, 13, 512]           1,024\n",
            "          Linear-100         [-1, 13, 13, 2048]       1,050,624\n",
            "            GELU-101         [-1, 13, 13, 2048]               0\n",
            "          Linear-102          [-1, 13, 13, 512]       1,049,088\n",
            "         Permute-103          [-1, 512, 13, 13]               0\n",
            " StochasticDepth-104          [-1, 512, 13, 13]               0\n",
            "         CNBlock-105          [-1, 512, 13, 13]               0\n",
            "          Conv2d-106          [-1, 512, 13, 13]          25,600\n",
            "         Permute-107          [-1, 13, 13, 512]               0\n",
            "       LayerNorm-108          [-1, 13, 13, 512]           1,024\n",
            "          Linear-109         [-1, 13, 13, 2048]       1,050,624\n",
            "            GELU-110         [-1, 13, 13, 2048]               0\n",
            "          Linear-111          [-1, 13, 13, 512]       1,049,088\n",
            "         Permute-112          [-1, 512, 13, 13]               0\n",
            " StochasticDepth-113          [-1, 512, 13, 13]               0\n",
            "         CNBlock-114          [-1, 512, 13, 13]               0\n",
            "          Conv2d-115          [-1, 512, 13, 13]          25,600\n",
            "         Permute-116          [-1, 13, 13, 512]               0\n",
            "       LayerNorm-117          [-1, 13, 13, 512]           1,024\n",
            "          Linear-118         [-1, 13, 13, 2048]       1,050,624\n",
            "            GELU-119         [-1, 13, 13, 2048]               0\n",
            "          Linear-120          [-1, 13, 13, 512]       1,049,088\n",
            "         Permute-121          [-1, 512, 13, 13]               0\n",
            " StochasticDepth-122          [-1, 512, 13, 13]               0\n",
            "         CNBlock-123          [-1, 512, 13, 13]               0\n",
            "          Conv2d-124          [-1, 512, 13, 13]          25,600\n",
            "         Permute-125          [-1, 13, 13, 512]               0\n",
            "       LayerNorm-126          [-1, 13, 13, 512]           1,024\n",
            "          Linear-127         [-1, 13, 13, 2048]       1,050,624\n",
            "            GELU-128         [-1, 13, 13, 2048]               0\n",
            "          Linear-129          [-1, 13, 13, 512]       1,049,088\n",
            "         Permute-130          [-1, 512, 13, 13]               0\n",
            " StochasticDepth-131          [-1, 512, 13, 13]               0\n",
            "         CNBlock-132          [-1, 512, 13, 13]               0\n",
            "          Conv2d-133          [-1, 512, 13, 13]          25,600\n",
            "         Permute-134          [-1, 13, 13, 512]               0\n",
            "       LayerNorm-135          [-1, 13, 13, 512]           1,024\n",
            "          Linear-136         [-1, 13, 13, 2048]       1,050,624\n",
            "            GELU-137         [-1, 13, 13, 2048]               0\n",
            "          Linear-138          [-1, 13, 13, 512]       1,049,088\n",
            "         Permute-139          [-1, 512, 13, 13]               0\n",
            " StochasticDepth-140          [-1, 512, 13, 13]               0\n",
            "         CNBlock-141          [-1, 512, 13, 13]               0\n",
            "          Conv2d-142          [-1, 512, 13, 13]          25,600\n",
            "         Permute-143          [-1, 13, 13, 512]               0\n",
            "       LayerNorm-144          [-1, 13, 13, 512]           1,024\n",
            "          Linear-145         [-1, 13, 13, 2048]       1,050,624\n",
            "            GELU-146         [-1, 13, 13, 2048]               0\n",
            "          Linear-147          [-1, 13, 13, 512]       1,049,088\n",
            "         Permute-148          [-1, 512, 13, 13]               0\n",
            " StochasticDepth-149          [-1, 512, 13, 13]               0\n",
            "         CNBlock-150          [-1, 512, 13, 13]               0\n",
            "          Conv2d-151          [-1, 512, 13, 13]          25,600\n",
            "         Permute-152          [-1, 13, 13, 512]               0\n",
            "       LayerNorm-153          [-1, 13, 13, 512]           1,024\n",
            "          Linear-154         [-1, 13, 13, 2048]       1,050,624\n",
            "            GELU-155         [-1, 13, 13, 2048]               0\n",
            "          Linear-156          [-1, 13, 13, 512]       1,049,088\n",
            "         Permute-157          [-1, 512, 13, 13]               0\n",
            " StochasticDepth-158          [-1, 512, 13, 13]               0\n",
            "         CNBlock-159          [-1, 512, 13, 13]               0\n",
            "          Conv2d-160          [-1, 512, 13, 13]          25,600\n",
            "         Permute-161          [-1, 13, 13, 512]               0\n",
            "       LayerNorm-162          [-1, 13, 13, 512]           1,024\n",
            "          Linear-163         [-1, 13, 13, 2048]       1,050,624\n",
            "            GELU-164         [-1, 13, 13, 2048]               0\n",
            "          Linear-165          [-1, 13, 13, 512]       1,049,088\n",
            "         Permute-166          [-1, 512, 13, 13]               0\n",
            " StochasticDepth-167          [-1, 512, 13, 13]               0\n",
            "         CNBlock-168          [-1, 512, 13, 13]               0\n",
            "          Conv2d-169          [-1, 512, 13, 13]          25,600\n",
            "         Permute-170          [-1, 13, 13, 512]               0\n",
            "       LayerNorm-171          [-1, 13, 13, 512]           1,024\n",
            "          Linear-172         [-1, 13, 13, 2048]       1,050,624\n",
            "            GELU-173         [-1, 13, 13, 2048]               0\n",
            "          Linear-174          [-1, 13, 13, 512]       1,049,088\n",
            "         Permute-175          [-1, 512, 13, 13]               0\n",
            " StochasticDepth-176          [-1, 512, 13, 13]               0\n",
            "         CNBlock-177          [-1, 512, 13, 13]               0\n",
            "          Conv2d-178          [-1, 512, 13, 13]          25,600\n",
            "         Permute-179          [-1, 13, 13, 512]               0\n",
            "       LayerNorm-180          [-1, 13, 13, 512]           1,024\n",
            "          Linear-181         [-1, 13, 13, 2048]       1,050,624\n",
            "            GELU-182         [-1, 13, 13, 2048]               0\n",
            "          Linear-183          [-1, 13, 13, 512]       1,049,088\n",
            "         Permute-184          [-1, 512, 13, 13]               0\n",
            " StochasticDepth-185          [-1, 512, 13, 13]               0\n",
            "         CNBlock-186          [-1, 512, 13, 13]               0\n",
            "          Conv2d-187          [-1, 512, 13, 13]          25,600\n",
            "         Permute-188          [-1, 13, 13, 512]               0\n",
            "       LayerNorm-189          [-1, 13, 13, 512]           1,024\n",
            "          Linear-190         [-1, 13, 13, 2048]       1,050,624\n",
            "            GELU-191         [-1, 13, 13, 2048]               0\n",
            "          Linear-192          [-1, 13, 13, 512]       1,049,088\n",
            "         Permute-193          [-1, 512, 13, 13]               0\n",
            " StochasticDepth-194          [-1, 512, 13, 13]               0\n",
            "         CNBlock-195          [-1, 512, 13, 13]               0\n",
            "          Conv2d-196          [-1, 512, 13, 13]          25,600\n",
            "         Permute-197          [-1, 13, 13, 512]               0\n",
            "       LayerNorm-198          [-1, 13, 13, 512]           1,024\n",
            "          Linear-199         [-1, 13, 13, 2048]       1,050,624\n",
            "            GELU-200         [-1, 13, 13, 2048]               0\n",
            "          Linear-201          [-1, 13, 13, 512]       1,049,088\n",
            "         Permute-202          [-1, 512, 13, 13]               0\n",
            " StochasticDepth-203          [-1, 512, 13, 13]               0\n",
            "         CNBlock-204          [-1, 512, 13, 13]               0\n",
            "          Conv2d-205          [-1, 512, 13, 13]          25,600\n",
            "         Permute-206          [-1, 13, 13, 512]               0\n",
            "       LayerNorm-207          [-1, 13, 13, 512]           1,024\n",
            "          Linear-208         [-1, 13, 13, 2048]       1,050,624\n",
            "            GELU-209         [-1, 13, 13, 2048]               0\n",
            "          Linear-210          [-1, 13, 13, 512]       1,049,088\n",
            "         Permute-211          [-1, 512, 13, 13]               0\n",
            " StochasticDepth-212          [-1, 512, 13, 13]               0\n",
            "         CNBlock-213          [-1, 512, 13, 13]               0\n",
            "          Conv2d-214          [-1, 512, 13, 13]          25,600\n",
            "         Permute-215          [-1, 13, 13, 512]               0\n",
            "       LayerNorm-216          [-1, 13, 13, 512]           1,024\n",
            "          Linear-217         [-1, 13, 13, 2048]       1,050,624\n",
            "            GELU-218         [-1, 13, 13, 2048]               0\n",
            "          Linear-219          [-1, 13, 13, 512]       1,049,088\n",
            "         Permute-220          [-1, 512, 13, 13]               0\n",
            " StochasticDepth-221          [-1, 512, 13, 13]               0\n",
            "         CNBlock-222          [-1, 512, 13, 13]               0\n",
            "          Conv2d-223          [-1, 512, 13, 13]          25,600\n",
            "         Permute-224          [-1, 13, 13, 512]               0\n",
            "       LayerNorm-225          [-1, 13, 13, 512]           1,024\n",
            "          Linear-226         [-1, 13, 13, 2048]       1,050,624\n",
            "            GELU-227         [-1, 13, 13, 2048]               0\n",
            "          Linear-228          [-1, 13, 13, 512]       1,049,088\n",
            "         Permute-229          [-1, 512, 13, 13]               0\n",
            " StochasticDepth-230          [-1, 512, 13, 13]               0\n",
            "         CNBlock-231          [-1, 512, 13, 13]               0\n",
            "          Conv2d-232          [-1, 512, 13, 13]          25,600\n",
            "         Permute-233          [-1, 13, 13, 512]               0\n",
            "       LayerNorm-234          [-1, 13, 13, 512]           1,024\n",
            "          Linear-235         [-1, 13, 13, 2048]       1,050,624\n",
            "            GELU-236         [-1, 13, 13, 2048]               0\n",
            "          Linear-237          [-1, 13, 13, 512]       1,049,088\n",
            "         Permute-238          [-1, 512, 13, 13]               0\n",
            " StochasticDepth-239          [-1, 512, 13, 13]               0\n",
            "         CNBlock-240          [-1, 512, 13, 13]               0\n",
            "          Conv2d-241          [-1, 512, 13, 13]          25,600\n",
            "         Permute-242          [-1, 13, 13, 512]               0\n",
            "       LayerNorm-243          [-1, 13, 13, 512]           1,024\n",
            "          Linear-244         [-1, 13, 13, 2048]       1,050,624\n",
            "            GELU-245         [-1, 13, 13, 2048]               0\n",
            "          Linear-246          [-1, 13, 13, 512]       1,049,088\n",
            "         Permute-247          [-1, 512, 13, 13]               0\n",
            " StochasticDepth-248          [-1, 512, 13, 13]               0\n",
            "         CNBlock-249          [-1, 512, 13, 13]               0\n",
            "          Conv2d-250          [-1, 512, 13, 13]          25,600\n",
            "         Permute-251          [-1, 13, 13, 512]               0\n",
            "       LayerNorm-252          [-1, 13, 13, 512]           1,024\n",
            "          Linear-253         [-1, 13, 13, 2048]       1,050,624\n",
            "            GELU-254         [-1, 13, 13, 2048]               0\n",
            "          Linear-255          [-1, 13, 13, 512]       1,049,088\n",
            "         Permute-256          [-1, 512, 13, 13]               0\n",
            " StochasticDepth-257          [-1, 512, 13, 13]               0\n",
            "         CNBlock-258          [-1, 512, 13, 13]               0\n",
            "          Conv2d-259          [-1, 512, 13, 13]          25,600\n",
            "         Permute-260          [-1, 13, 13, 512]               0\n",
            "       LayerNorm-261          [-1, 13, 13, 512]           1,024\n",
            "          Linear-262         [-1, 13, 13, 2048]       1,050,624\n",
            "            GELU-263         [-1, 13, 13, 2048]               0\n",
            "          Linear-264          [-1, 13, 13, 512]       1,049,088\n",
            "         Permute-265          [-1, 512, 13, 13]               0\n",
            " StochasticDepth-266          [-1, 512, 13, 13]               0\n",
            "         CNBlock-267          [-1, 512, 13, 13]               0\n",
            "          Conv2d-268          [-1, 512, 13, 13]          25,600\n",
            "         Permute-269          [-1, 13, 13, 512]               0\n",
            "       LayerNorm-270          [-1, 13, 13, 512]           1,024\n",
            "          Linear-271         [-1, 13, 13, 2048]       1,050,624\n",
            "            GELU-272         [-1, 13, 13, 2048]               0\n",
            "          Linear-273          [-1, 13, 13, 512]       1,049,088\n",
            "         Permute-274          [-1, 512, 13, 13]               0\n",
            " StochasticDepth-275          [-1, 512, 13, 13]               0\n",
            "         CNBlock-276          [-1, 512, 13, 13]               0\n",
            "          Conv2d-277          [-1, 512, 13, 13]          25,600\n",
            "         Permute-278          [-1, 13, 13, 512]               0\n",
            "       LayerNorm-279          [-1, 13, 13, 512]           1,024\n",
            "          Linear-280         [-1, 13, 13, 2048]       1,050,624\n",
            "            GELU-281         [-1, 13, 13, 2048]               0\n",
            "          Linear-282          [-1, 13, 13, 512]       1,049,088\n",
            "         Permute-283          [-1, 512, 13, 13]               0\n",
            " StochasticDepth-284          [-1, 512, 13, 13]               0\n",
            "         CNBlock-285          [-1, 512, 13, 13]               0\n",
            "          Conv2d-286          [-1, 512, 13, 13]          25,600\n",
            "         Permute-287          [-1, 13, 13, 512]               0\n",
            "       LayerNorm-288          [-1, 13, 13, 512]           1,024\n",
            "          Linear-289         [-1, 13, 13, 2048]       1,050,624\n",
            "            GELU-290         [-1, 13, 13, 2048]               0\n",
            "          Linear-291          [-1, 13, 13, 512]       1,049,088\n",
            "         Permute-292          [-1, 512, 13, 13]               0\n",
            " StochasticDepth-293          [-1, 512, 13, 13]               0\n",
            "         CNBlock-294          [-1, 512, 13, 13]               0\n",
            "          Conv2d-295          [-1, 512, 13, 13]          25,600\n",
            "         Permute-296          [-1, 13, 13, 512]               0\n",
            "       LayerNorm-297          [-1, 13, 13, 512]           1,024\n",
            "          Linear-298         [-1, 13, 13, 2048]       1,050,624\n",
            "            GELU-299         [-1, 13, 13, 2048]               0\n",
            "          Linear-300          [-1, 13, 13, 512]       1,049,088\n",
            "         Permute-301          [-1, 512, 13, 13]               0\n",
            " StochasticDepth-302          [-1, 512, 13, 13]               0\n",
            "         CNBlock-303          [-1, 512, 13, 13]               0\n",
            "     LayerNorm2d-304          [-1, 512, 13, 13]           1,024\n",
            "          Conv2d-305           [-1, 1024, 6, 6]       2,098,176\n",
            "          Conv2d-306           [-1, 1024, 6, 6]          51,200\n",
            "         Permute-307           [-1, 6, 6, 1024]               0\n",
            "       LayerNorm-308           [-1, 6, 6, 1024]           2,048\n",
            "          Linear-309           [-1, 6, 6, 4096]       4,198,400\n",
            "            GELU-310           [-1, 6, 6, 4096]               0\n",
            "          Linear-311           [-1, 6, 6, 1024]       4,195,328\n",
            "         Permute-312           [-1, 1024, 6, 6]               0\n",
            " StochasticDepth-313           [-1, 1024, 6, 6]               0\n",
            "         CNBlock-314           [-1, 1024, 6, 6]               0\n",
            "          Conv2d-315           [-1, 1024, 6, 6]          51,200\n",
            "         Permute-316           [-1, 6, 6, 1024]               0\n",
            "       LayerNorm-317           [-1, 6, 6, 1024]           2,048\n",
            "          Linear-318           [-1, 6, 6, 4096]       4,198,400\n",
            "            GELU-319           [-1, 6, 6, 4096]               0\n",
            "          Linear-320           [-1, 6, 6, 1024]       4,195,328\n",
            "         Permute-321           [-1, 1024, 6, 6]               0\n",
            " StochasticDepth-322           [-1, 1024, 6, 6]               0\n",
            "         CNBlock-323           [-1, 1024, 6, 6]               0\n",
            "          Conv2d-324           [-1, 1024, 6, 6]          51,200\n",
            "         Permute-325           [-1, 6, 6, 1024]               0\n",
            "       LayerNorm-326           [-1, 6, 6, 1024]           2,048\n",
            "          Linear-327           [-1, 6, 6, 4096]       4,198,400\n",
            "            GELU-328           [-1, 6, 6, 4096]               0\n",
            "          Linear-329           [-1, 6, 6, 1024]       4,195,328\n",
            "         Permute-330           [-1, 1024, 6, 6]               0\n",
            " StochasticDepth-331           [-1, 1024, 6, 6]               0\n",
            "         CNBlock-332           [-1, 1024, 6, 6]               0\n",
            "AdaptiveAvgPool2d-333           [-1, 1024, 1, 1]               0\n",
            "     LayerNorm2d-334           [-1, 1024, 1, 1]           2,048\n",
            "         Flatten-335                 [-1, 1024]               0\n",
            "          Linear-336                   [-1, 64]          65,600\n",
            "        ConvNeXt-337                   [-1, 64]               0\n",
            "          Linear-338                    [-1, 8]             520\n",
            "================================================================\n",
            "Total params: 87,614,536\n",
            "Trainable params: 66,120\n",
            "Non-trainable params: 87,548,416\n",
            "----------------------------------------------------------------\n",
            "Input size (MB): 0.55\n",
            "Forward/backward pass size (MB): 490.36\n",
            "Params size (MB): 334.22\n",
            "Estimated Total Size (MB): 825.14\n",
            "----------------------------------------------------------------\n"
          ]
        }
      ],
      "source": [
        "model = model.to(device)\n",
        "summary(model, (3, 220, 220))"
      ]
    },
    {
      "cell_type": "code",
      "execution_count": null,
      "metadata": {
        "colab": {
          "base_uri": "https://localhost:8080/",
          "height": 602
        },
        "id": "lMg7iuiqMeUa",
        "outputId": "f38a0055-567c-4912-aaaf-cd15306a9f05"
      },
      "outputs": [
        {
          "output_type": "stream",
          "name": "stderr",
          "text": [
            "[Epoch 1]\t[17:29:08]\tTrain Loss: 0.4492764952778816\tTrain Accuracy: 85.86: 100%|██████████| 200/200 [01:57<00:00,  1.70it/s]\n",
            "[Epoch 1]\t[17:29:22]\tValidation Loss: 0.2105109930038452\tValidation Accuracy: 93.86: 100%|██████████| 25/25 [00:14<00:00,  1.72it/s]\n",
            "[Epoch 2]\t[17:31:18]\tTrain Loss: 0.3082373552210629\tTrain Accuracy: 90.23: 100%|██████████| 200/200 [01:56<00:00,  1.72it/s]\n",
            "[Epoch 2]\t[17:31:33]\tValidation Loss: 0.17810454711318016\tValidation Accuracy: 94.99: 100%|██████████| 25/25 [00:14<00:00,  1.77it/s]\n",
            "[Epoch 3]\t[17:33:29]\tTrain Loss: 0.28452169010415673\tTrain Accuracy: 91.20: 100%|██████████| 200/200 [01:56<00:00,  1.72it/s]\n",
            "[Epoch 3]\t[17:33:43]\tValidation Loss: 0.17539528300985693\tValidation Accuracy: 94.74: 100%|██████████| 25/25 [00:14<00:00,  1.74it/s]\n",
            "[Epoch 4]\t[17:35:40]\tTrain Loss: 0.24797960175201297\tTrain Accuracy: 91.98: 100%|██████████| 200/200 [01:56<00:00,  1.72it/s]\n",
            "[Epoch 4]\t[17:35:54]\tValidation Loss: 0.175014083776623\tValidation Accuracy: 94.61: 100%|██████████| 25/25 [00:14<00:00,  1.77it/s]\n",
            "[Epoch 5]\t[17:37:51]\tTrain Loss: 0.25576291911303994\tTrain Accuracy: 91.96: 100%|██████████| 200/200 [01:57<00:00,  1.70it/s]\n",
            "[Epoch 5]\t[17:38:05]\tValidation Loss: 0.1723542612977326\tValidation Accuracy: 94.86: 100%|██████████| 25/25 [00:14<00:00,  1.77it/s]\n",
            "[Epoch 6]\t[17:40:02]\tTrain Loss: 0.23813494850881398\tTrain Accuracy: 92.23: 100%|██████████| 200/200 [01:56<00:00,  1.72it/s]\n",
            "[Epoch 6]\t[17:40:16]\tValidation Loss: 0.1775412305444479\tValidation Accuracy: 94.86: 100%|██████████| 25/25 [00:14<00:00,  1.78it/s]\n",
            "[Epoch 7]\t[17:40:28]\tTrain Loss: 0.2805088783303897\tTrain Accuracy: 91.96:  10%|█         | 21/200 [00:12<01:48,  1.65it/s]\n"
          ]
        },
        {
          "output_type": "error",
          "ename": "KeyboardInterrupt",
          "evalue": "ignored",
          "traceback": [
            "\u001b[0;31m---------------------------------------------------------------------------\u001b[0m",
            "\u001b[0;31mKeyboardInterrupt\u001b[0m                         Traceback (most recent call last)",
            "\u001b[0;32m<ipython-input-25-6f03e2a7ef1b>\u001b[0m in \u001b[0;36m<cell line: 62>\u001b[0;34m()\u001b[0m\n\u001b[1;32m     61\u001b[0m \u001b[0;34m\u001b[0m\u001b[0m\n\u001b[1;32m     62\u001b[0m \u001b[0;32mfor\u001b[0m \u001b[0me\u001b[0m \u001b[0;32min\u001b[0m \u001b[0mrange\u001b[0m\u001b[0;34m(\u001b[0m\u001b[0mepochs\u001b[0m\u001b[0;34m)\u001b[0m\u001b[0;34m:\u001b[0m\u001b[0;34m\u001b[0m\u001b[0;34m\u001b[0m\u001b[0m\n\u001b[0;32m---> 63\u001b[0;31m     \u001b[0mtrain_epoch\u001b[0m\u001b[0;34m(\u001b[0m\u001b[0mmodel\u001b[0m\u001b[0;34m,\u001b[0m \u001b[0mcriterion\u001b[0m\u001b[0;34m,\u001b[0m \u001b[0moptimizer\u001b[0m\u001b[0;34m,\u001b[0m \u001b[0mtrain_loader\u001b[0m\u001b[0;34m,\u001b[0m \u001b[0me\u001b[0m \u001b[0;34m+\u001b[0m \u001b[0;36m1\u001b[0m\u001b[0;34m)\u001b[0m\u001b[0;34m\u001b[0m\u001b[0;34m\u001b[0m\u001b[0m\n\u001b[0m\u001b[1;32m     64\u001b[0m     \u001b[0meval_epoch\u001b[0m\u001b[0;34m(\u001b[0m\u001b[0mmodel\u001b[0m\u001b[0;34m,\u001b[0m \u001b[0mcriterion\u001b[0m\u001b[0;34m,\u001b[0m \u001b[0mval_loader\u001b[0m\u001b[0;34m,\u001b[0m \u001b[0;34m'Validation'\u001b[0m\u001b[0;34m,\u001b[0m \u001b[0me\u001b[0m \u001b[0;34m+\u001b[0m \u001b[0;36m1\u001b[0m\u001b[0;34m)\u001b[0m\u001b[0;34m\u001b[0m\u001b[0;34m\u001b[0m\u001b[0m\n",
            "\u001b[0;32m<ipython-input-25-6f03e2a7ef1b>\u001b[0m in \u001b[0;36mtrain_epoch\u001b[0;34m(model, criterion, optimizer, dataloader, epoch_num)\u001b[0m\n\u001b[1;32m     20\u001b[0m \u001b[0;34m\u001b[0m\u001b[0m\n\u001b[1;32m     21\u001b[0m             \u001b[0mloss\u001b[0m \u001b[0;34m=\u001b[0m \u001b[0mcriterion\u001b[0m\u001b[0;34m(\u001b[0m\u001b[0myhat\u001b[0m\u001b[0;34m,\u001b[0m \u001b[0my\u001b[0m\u001b[0;34m)\u001b[0m\u001b[0;34m\u001b[0m\u001b[0;34m\u001b[0m\u001b[0m\n\u001b[0;32m---> 22\u001b[0;31m             \u001b[0mepoch_loss\u001b[0m \u001b[0;34m+=\u001b[0m \u001b[0mfloat\u001b[0m\u001b[0;34m(\u001b[0m\u001b[0mloss\u001b[0m\u001b[0;34m)\u001b[0m\u001b[0;34m\u001b[0m\u001b[0;34m\u001b[0m\u001b[0m\n\u001b[0m\u001b[1;32m     23\u001b[0m \u001b[0;34m\u001b[0m\u001b[0m\n\u001b[1;32m     24\u001b[0m             \u001b[0mpredictions\u001b[0m \u001b[0;34m=\u001b[0m \u001b[0myhat\u001b[0m\u001b[0;34m.\u001b[0m\u001b[0margmax\u001b[0m\u001b[0;34m(\u001b[0m\u001b[0;34m-\u001b[0m\u001b[0;36m1\u001b[0m\u001b[0;34m)\u001b[0m\u001b[0;34m\u001b[0m\u001b[0;34m\u001b[0m\u001b[0m\n",
            "\u001b[0;31mKeyboardInterrupt\u001b[0m: "
          ]
        }
      ],
      "source": [
        "criterion = nn.CrossEntropyLoss().to(device)\n",
        "optimizer = torch.optim.SGD(model.parameters(), lr=0.1, momentum=0.9, weight_decay=0.0001)\n",
        "scheduler = torch.optim.lr_scheduler.MultiStepLR(optimizer, milestones=[82, 123], gamma=0.1)\n",
        "\n",
        "train_accuracy = []\n",
        "train_loss = []\n",
        "val_accuracy = []\n",
        "val_loss = []\n",
        "def train_epoch(model, criterion, optimizer, dataloader, epoch_num):\n",
        "    epoch_loss = 0\n",
        "    epoch_true = 0\n",
        "    epoch_all = 0\n",
        "\n",
        "    model.train()\n",
        "    with tqdm.tqdm(enumerate(dataloader), total=len(dataloader)) as pbar:\n",
        "        for i, (x, y) in pbar:\n",
        "            x = x.to(device)\n",
        "            y = y.to(device)\n",
        "            yhat = model(x)\n",
        "\n",
        "            loss = criterion(yhat, y)\n",
        "            epoch_loss += float(loss)\n",
        "\n",
        "            predictions = yhat.argmax(-1)\n",
        "            epoch_all += len(predictions)\n",
        "            epoch_true += (predictions == y).sum()\n",
        "            pbar.set_description(f'[Epoch {epoch_num}]\\t[{datetime.now().strftime(\"%H:%M:%S\")}]\\tTrain Loss: {epoch_loss / (i + 1)}\\tTrain Accuracy: {epoch_true * 100. / epoch_all:.2f}')\n",
        "\n",
        "            loss.backward()\n",
        "            optimizer.step()\n",
        "            optimizer.zero_grad()\n",
        "    train_accuracy.append(epoch_true / epoch_all)\n",
        "    train_loss.append(epoch_loss / len(dataloader))\n",
        "\n",
        "\n",
        "def eval_epoch(model, criterion, dataloader, label, epoch_num):\n",
        "    epoch_loss = 0\n",
        "    epoch_true = 0\n",
        "    epoch_all = 0\n",
        "\n",
        "    model.eval()\n",
        "    with torch.no_grad(), tqdm.tqdm(enumerate(dataloader), total=len(dataloader)) as pbar:\n",
        "        for i, (x, y) in pbar:\n",
        "            x = x.to(device)\n",
        "            y = y.to(device)\n",
        "            yhat = model(x)\n",
        "\n",
        "            loss = criterion(yhat, y)\n",
        "            epoch_loss += float(loss)\n",
        "\n",
        "            predictions = yhat.argmax(-1)\n",
        "            epoch_all += len(predictions)\n",
        "            epoch_true += (predictions == y).sum()\n",
        "            pbar.set_description(f'[Epoch {epoch_num}]\\t[{datetime.now().strftime(\"%H:%M:%S\")}]\\t{label} Loss: {epoch_loss / (i + 1)}\\t{label} Accuracy: {epoch_true * 100. / epoch_all:.2f}')\n",
        "    if label == 'Validation':\n",
        "      val_accuracy.append(epoch_true / epoch_all)\n",
        "      val_loss.append(epoch_loss / len(dataloader))\n",
        "\n",
        "\n",
        "epochs = 164\n",
        "\n",
        "for e in range(epochs):\n",
        "    train_epoch(model, criterion, optimizer, train_loader, e + 1)\n",
        "    eval_epoch(model, criterion, val_loader, 'Validation', e + 1)\n"
      ]
    },
    {
      "cell_type": "code",
      "execution_count": null,
      "metadata": {
        "id": "SVRu6JGOSdiD"
      },
      "outputs": [],
      "source": [
        "torch.save(model.state_dict(), 'checkpoint.pth')"
      ]
    },
    {
      "cell_type": "code",
      "execution_count": null,
      "metadata": {
        "id": "M8eGy3ytyuMY"
      },
      "outputs": [],
      "source": [
        "!pip freeze > requirements.txt\n"
      ]
    },
    {
      "cell_type": "code",
      "source": [],
      "metadata": {
        "colab": {
          "base_uri": "https://localhost:8080/"
        },
        "id": "LQv-6cMxp53z",
        "outputId": "f33e4a88-efa5-447d-e27a-33d7fe1385c3"
      },
      "execution_count": null,
      "outputs": [
        {
          "output_type": "stream",
          "name": "stdout",
          "text": [
            "Usage: cp [OPTION]... [-T] SOURCE DEST\n",
            "  or:  cp [OPTION]... SOURCE... DIRECTORY\n",
            "  or:  cp [OPTION]... -t DIRECTORY SOURCE...\n",
            "Copy SOURCE to DEST, or multiple SOURCE(s) to DIRECTORY.\n",
            "\n",
            "Mandatory arguments to long options are mandatory for short options too.\n",
            "  -a, --archive                same as -dR --preserve=all\n",
            "      --attributes-only        don't copy the file data, just the attributes\n",
            "      --backup[=CONTROL]       make a backup of each existing destination file\n",
            "  -b                           like --backup but does not accept an argument\n",
            "      --copy-contents          copy contents of special files when recursive\n",
            "  -d                           same as --no-dereference --preserve=links\n",
            "  -f, --force                  if an existing destination file cannot be\n",
            "                                 opened, remove it and try again (this option\n",
            "                                 is ignored when the -n option is also used)\n",
            "  -i, --interactive            prompt before overwrite (overrides a previous -n\n",
            "                                  option)\n",
            "  -H                           follow command-line symbolic links in SOURCE\n",
            "  -l, --link                   hard link files instead of copying\n",
            "  -L, --dereference            always follow symbolic links in SOURCE\n",
            "  -n, --no-clobber             do not overwrite an existing file (overrides\n",
            "                                 a previous -i option)\n",
            "  -P, --no-dereference         never follow symbolic links in SOURCE\n",
            "  -p                           same as --preserve=mode,ownership,timestamps\n",
            "      --preserve[=ATTR_LIST]   preserve the specified attributes (default:\n",
            "                                 mode,ownership,timestamps), if possible\n",
            "                                 additional attributes: context, links, xattr,\n",
            "                                 all\n",
            "      --no-preserve=ATTR_LIST  don't preserve the specified attributes\n",
            "      --parents                use full source file name under DIRECTORY\n",
            "  -R, -r, --recursive          copy directories recursively\n",
            "      --reflink[=WHEN]         control clone/CoW copies. See below\n",
            "      --remove-destination     remove each existing destination file before\n",
            "                                 attempting to open it (contrast with --force)\n",
            "      --sparse=WHEN            control creation of sparse files. See below\n",
            "      --strip-trailing-slashes  remove any trailing slashes from each SOURCE\n",
            "                                 argument\n",
            "  -s, --symbolic-link          make symbolic links instead of copying\n",
            "  -S, --suffix=SUFFIX          override the usual backup suffix\n",
            "  -t, --target-directory=DIRECTORY  copy all SOURCE arguments into DIRECTORY\n",
            "  -T, --no-target-directory    treat DEST as a normal file\n",
            "  -u, --update                 copy only when the SOURCE file is newer\n",
            "                                 than the destination file or when the\n",
            "                                 destination file is missing\n",
            "  -v, --verbose                explain what is being done\n",
            "  -x, --one-file-system        stay on this file system\n",
            "  -Z                           set SELinux security context of destination\n",
            "                                 file to default type\n",
            "      --context[=CTX]          like -Z, or if CTX is specified then set the\n",
            "                                 SELinux or SMACK security context to CTX\n",
            "      --help     display this help and exit\n",
            "      --version  output version information and exit\n",
            "\n",
            "By default, sparse SOURCE files are detected by a crude heuristic and the\n",
            "corresponding DEST file is made sparse as well.  That is the behavior\n",
            "selected by --sparse=auto.  Specify --sparse=always to create a sparse DEST\n",
            "file whenever the SOURCE file contains a long enough sequence of zero bytes.\n",
            "Use --sparse=never to inhibit creation of sparse files.\n",
            "\n",
            "When --reflink[=always] is specified, perform a lightweight copy, where the\n",
            "data blocks are copied only when modified.  If this is not possible the copy\n",
            "fails, or if --reflink=auto is specified, fall back to a standard copy.\n",
            "Use --reflink=never to ensure a standard copy is performed.\n",
            "\n",
            "The backup suffix is '~', unless set with --suffix or SIMPLE_BACKUP_SUFFIX.\n",
            "The version control method may be selected via the --backup option or through\n",
            "the VERSION_CONTROL environment variable.  Here are the values:\n",
            "\n",
            "  none, off       never make backups (even if --backup is given)\n",
            "  numbered, t     make numbered backups\n",
            "  existing, nil   numbered if numbered backups exist, simple otherwise\n",
            "  simple, never   always make simple backups\n",
            "\n",
            "As a special case, cp makes a backup of SOURCE when the force and backup\n",
            "options are given and SOURCE and DEST are the same name for an existing,\n",
            "regular file.\n",
            "\n",
            "GNU coreutils online help: <https://www.gnu.org/software/coreutils/>\n",
            "Full documentation at: <https://www.gnu.org/software/coreutils/cp>\n",
            "or available locally via: info '(coreutils) cp invocation'\n"
          ]
        }
      ]
    },
    {
      "cell_type": "code",
      "source": [
        "!pip install --upgrade google-colab"
      ],
      "metadata": {
        "colab": {
          "base_uri": "https://localhost:8080/"
        },
        "id": "9XDV96BaqeBt",
        "outputId": "eadec561-bbb1-46d6-95f3-38219716407c"
      },
      "execution_count": null,
      "outputs": [
        {
          "output_type": "stream",
          "name": "stdout",
          "text": [
            "Looking in indexes: https://pypi.org/simple, https://us-python.pkg.dev/colab-wheels/public/simple/\n",
            "Requirement already satisfied: google-colab in /usr/local/lib/python3.10/dist-packages (1.0.0)\n",
            "Requirement already satisfied: google-auth==2.17.3 in /usr/local/lib/python3.10/dist-packages (from google-colab) (2.17.3)\n",
            "Requirement already satisfied: ipykernel==5.5.6 in /usr/local/lib/python3.10/dist-packages (from google-colab) (5.5.6)\n",
            "Requirement already satisfied: ipython==7.34.0 in /usr/local/lib/python3.10/dist-packages (from google-colab) (7.34.0)\n",
            "Requirement already satisfied: notebook==6.4.8 in /usr/local/lib/python3.10/dist-packages (from google-colab) (6.4.8)\n",
            "Requirement already satisfied: pandas==1.5.3 in /usr/local/lib/python3.10/dist-packages (from google-colab) (1.5.3)\n",
            "Requirement already satisfied: portpicker==1.3.9 in /usr/local/lib/python3.10/dist-packages (from google-colab) (1.3.9)\n",
            "Requirement already satisfied: requests==2.27.1 in /usr/local/lib/python3.10/dist-packages (from google-colab) (2.27.1)\n",
            "Requirement already satisfied: tornado==6.3.1 in /usr/local/lib/python3.10/dist-packages (from google-colab) (6.3.1)\n",
            "Requirement already satisfied: cachetools<6.0,>=2.0.0 in /usr/local/lib/python3.10/dist-packages (from google-auth==2.17.3->google-colab) (5.3.1)\n",
            "Requirement already satisfied: pyasn1-modules>=0.2.1 in /usr/local/lib/python3.10/dist-packages (from google-auth==2.17.3->google-colab) (0.3.0)\n",
            "Requirement already satisfied: six>=1.9.0 in /usr/local/lib/python3.10/dist-packages (from google-auth==2.17.3->google-colab) (1.16.0)\n",
            "Requirement already satisfied: rsa<5,>=3.1.4 in /usr/local/lib/python3.10/dist-packages (from google-auth==2.17.3->google-colab) (4.9)\n",
            "Requirement already satisfied: ipython-genutils in /usr/local/lib/python3.10/dist-packages (from ipykernel==5.5.6->google-colab) (0.2.0)\n",
            "Requirement already satisfied: traitlets>=4.1.0 in /usr/local/lib/python3.10/dist-packages (from ipykernel==5.5.6->google-colab) (5.7.1)\n",
            "Requirement already satisfied: jupyter-client in /usr/local/lib/python3.10/dist-packages (from ipykernel==5.5.6->google-colab) (6.1.12)\n",
            "Requirement already satisfied: setuptools>=18.5 in /usr/local/lib/python3.10/dist-packages (from ipython==7.34.0->google-colab) (67.7.2)\n",
            "Collecting jedi>=0.16 (from ipython==7.34.0->google-colab)\n",
            "  Downloading jedi-0.18.2-py2.py3-none-any.whl (1.6 MB)\n",
            "\u001b[2K     \u001b[90m━━━━━━━━━━━━━━━━━━━━━━━━━━━━━━━━━━━━━━━━\u001b[0m \u001b[32m1.6/1.6 MB\u001b[0m \u001b[31m51.5 MB/s\u001b[0m eta \u001b[36m0:00:00\u001b[0m\n",
            "\u001b[?25hRequirement already satisfied: decorator in /usr/local/lib/python3.10/dist-packages (from ipython==7.34.0->google-colab) (4.4.2)\n",
            "Requirement already satisfied: pickleshare in /usr/local/lib/python3.10/dist-packages (from ipython==7.34.0->google-colab) (0.7.5)\n",
            "Requirement already satisfied: prompt-toolkit!=3.0.0,!=3.0.1,<3.1.0,>=2.0.0 in /usr/local/lib/python3.10/dist-packages (from ipython==7.34.0->google-colab) (3.0.38)\n",
            "Requirement already satisfied: pygments in /usr/local/lib/python3.10/dist-packages (from ipython==7.34.0->google-colab) (2.14.0)\n",
            "Requirement already satisfied: backcall in /usr/local/lib/python3.10/dist-packages (from ipython==7.34.0->google-colab) (0.2.0)\n",
            "Requirement already satisfied: matplotlib-inline in /usr/local/lib/python3.10/dist-packages (from ipython==7.34.0->google-colab) (0.1.6)\n",
            "Requirement already satisfied: pexpect>4.3 in /usr/local/lib/python3.10/dist-packages (from ipython==7.34.0->google-colab) (4.8.0)\n",
            "Requirement already satisfied: jinja2 in /usr/local/lib/python3.10/dist-packages (from notebook==6.4.8->google-colab) (3.1.2)\n",
            "Requirement already satisfied: pyzmq>=17 in /usr/local/lib/python3.10/dist-packages (from notebook==6.4.8->google-colab) (23.2.1)\n",
            "Requirement already satisfied: argon2-cffi in /usr/local/lib/python3.10/dist-packages (from notebook==6.4.8->google-colab) (21.3.0)\n",
            "Requirement already satisfied: jupyter-core>=4.6.1 in /usr/local/lib/python3.10/dist-packages (from notebook==6.4.8->google-colab) (5.3.1)\n",
            "Requirement already satisfied: nbformat in /usr/local/lib/python3.10/dist-packages (from notebook==6.4.8->google-colab) (5.9.0)\n",
            "Requirement already satisfied: nbconvert in /usr/local/lib/python3.10/dist-packages (from notebook==6.4.8->google-colab) (6.5.4)\n",
            "Requirement already satisfied: nest-asyncio>=1.5 in /usr/local/lib/python3.10/dist-packages (from notebook==6.4.8->google-colab) (1.5.6)\n",
            "Requirement already satisfied: Send2Trash>=1.8.0 in /usr/local/lib/python3.10/dist-packages (from notebook==6.4.8->google-colab) (1.8.2)\n",
            "Requirement already satisfied: terminado>=0.8.3 in /usr/local/lib/python3.10/dist-packages (from notebook==6.4.8->google-colab) (0.17.1)\n",
            "Requirement already satisfied: prometheus-client in /usr/local/lib/python3.10/dist-packages (from notebook==6.4.8->google-colab) (0.17.0)\n",
            "Requirement already satisfied: python-dateutil>=2.8.1 in /usr/local/lib/python3.10/dist-packages (from pandas==1.5.3->google-colab) (2.8.2)\n",
            "Requirement already satisfied: pytz>=2020.1 in /usr/local/lib/python3.10/dist-packages (from pandas==1.5.3->google-colab) (2022.7.1)\n",
            "Requirement already satisfied: numpy>=1.21.0 in /usr/local/lib/python3.10/dist-packages (from pandas==1.5.3->google-colab) (1.22.4)\n",
            "Requirement already satisfied: urllib3<1.27,>=1.21.1 in /usr/local/lib/python3.10/dist-packages (from requests==2.27.1->google-colab) (1.26.16)\n",
            "Requirement already satisfied: certifi>=2017.4.17 in /usr/local/lib/python3.10/dist-packages (from requests==2.27.1->google-colab) (2023.5.7)\n",
            "Requirement already satisfied: charset-normalizer~=2.0.0 in /usr/local/lib/python3.10/dist-packages (from requests==2.27.1->google-colab) (2.0.12)\n",
            "Requirement already satisfied: idna<4,>=2.5 in /usr/local/lib/python3.10/dist-packages (from requests==2.27.1->google-colab) (3.4)\n",
            "Requirement already satisfied: parso<0.9.0,>=0.8.0 in /usr/local/lib/python3.10/dist-packages (from jedi>=0.16->ipython==7.34.0->google-colab) (0.8.3)\n",
            "Requirement already satisfied: platformdirs>=2.5 in /usr/local/lib/python3.10/dist-packages (from jupyter-core>=4.6.1->notebook==6.4.8->google-colab) (3.7.0)\n",
            "Requirement already satisfied: ptyprocess>=0.5 in /usr/local/lib/python3.10/dist-packages (from pexpect>4.3->ipython==7.34.0->google-colab) (0.7.0)\n",
            "Requirement already satisfied: wcwidth in /usr/local/lib/python3.10/dist-packages (from prompt-toolkit!=3.0.0,!=3.0.1,<3.1.0,>=2.0.0->ipython==7.34.0->google-colab) (0.2.6)\n",
            "Requirement already satisfied: pyasn1<0.6.0,>=0.4.6 in /usr/local/lib/python3.10/dist-packages (from pyasn1-modules>=0.2.1->google-auth==2.17.3->google-colab) (0.5.0)\n",
            "Requirement already satisfied: argon2-cffi-bindings in /usr/local/lib/python3.10/dist-packages (from argon2-cffi->notebook==6.4.8->google-colab) (21.2.0)\n",
            "Requirement already satisfied: MarkupSafe>=2.0 in /usr/local/lib/python3.10/dist-packages (from jinja2->notebook==6.4.8->google-colab) (2.1.3)\n",
            "Requirement already satisfied: lxml in /usr/local/lib/python3.10/dist-packages (from nbconvert->notebook==6.4.8->google-colab) (4.9.2)\n",
            "Requirement already satisfied: beautifulsoup4 in /usr/local/lib/python3.10/dist-packages (from nbconvert->notebook==6.4.8->google-colab) (4.11.2)\n",
            "Requirement already satisfied: bleach in /usr/local/lib/python3.10/dist-packages (from nbconvert->notebook==6.4.8->google-colab) (6.0.0)\n",
            "Requirement already satisfied: defusedxml in /usr/local/lib/python3.10/dist-packages (from nbconvert->notebook==6.4.8->google-colab) (0.7.1)\n",
            "Requirement already satisfied: entrypoints>=0.2.2 in /usr/local/lib/python3.10/dist-packages (from nbconvert->notebook==6.4.8->google-colab) (0.4)\n",
            "Requirement already satisfied: jupyterlab-pygments in /usr/local/lib/python3.10/dist-packages (from nbconvert->notebook==6.4.8->google-colab) (0.2.2)\n",
            "Requirement already satisfied: mistune<2,>=0.8.1 in /usr/local/lib/python3.10/dist-packages (from nbconvert->notebook==6.4.8->google-colab) (0.8.4)\n",
            "Requirement already satisfied: nbclient>=0.5.0 in /usr/local/lib/python3.10/dist-packages (from nbconvert->notebook==6.4.8->google-colab) (0.8.0)\n",
            "Requirement already satisfied: packaging in /usr/local/lib/python3.10/dist-packages (from nbconvert->notebook==6.4.8->google-colab) (23.1)\n",
            "Requirement already satisfied: pandocfilters>=1.4.1 in /usr/local/lib/python3.10/dist-packages (from nbconvert->notebook==6.4.8->google-colab) (1.5.0)\n",
            "Requirement already satisfied: tinycss2 in /usr/local/lib/python3.10/dist-packages (from nbconvert->notebook==6.4.8->google-colab) (1.2.1)\n",
            "Requirement already satisfied: fastjsonschema in /usr/local/lib/python3.10/dist-packages (from nbformat->notebook==6.4.8->google-colab) (2.17.1)\n",
            "Requirement already satisfied: jsonschema>=2.6 in /usr/local/lib/python3.10/dist-packages (from nbformat->notebook==6.4.8->google-colab) (4.3.3)\n",
            "Requirement already satisfied: attrs>=17.4.0 in /usr/local/lib/python3.10/dist-packages (from jsonschema>=2.6->nbformat->notebook==6.4.8->google-colab) (23.1.0)\n",
            "Requirement already satisfied: pyrsistent!=0.17.0,!=0.17.1,!=0.17.2,>=0.14.0 in /usr/local/lib/python3.10/dist-packages (from jsonschema>=2.6->nbformat->notebook==6.4.8->google-colab) (0.19.3)\n",
            "Requirement already satisfied: cffi>=1.0.1 in /usr/local/lib/python3.10/dist-packages (from argon2-cffi-bindings->argon2-cffi->notebook==6.4.8->google-colab) (1.15.1)\n",
            "Requirement already satisfied: soupsieve>1.2 in /usr/local/lib/python3.10/dist-packages (from beautifulsoup4->nbconvert->notebook==6.4.8->google-colab) (2.4.1)\n",
            "Requirement already satisfied: webencodings in /usr/local/lib/python3.10/dist-packages (from bleach->nbconvert->notebook==6.4.8->google-colab) (0.5.1)\n",
            "Requirement already satisfied: pycparser in /usr/local/lib/python3.10/dist-packages (from cffi>=1.0.1->argon2-cffi-bindings->argon2-cffi->notebook==6.4.8->google-colab) (2.21)\n",
            "Installing collected packages: jedi\n",
            "Successfully installed jedi-0.18.2\n"
          ]
        }
      ]
    },
    {
      "cell_type": "code",
      "source": [
        "from google.colab import drive\n",
        "drive.mount('/content/drive')"
      ],
      "metadata": {
        "colab": {
          "base_uri": "https://localhost:8080/"
        },
        "id": "YlTx_O7Rp-tI",
        "outputId": "326d6258-f28a-4bd4-9536-51c69c3a9d7d"
      },
      "execution_count": null,
      "outputs": [
        {
          "output_type": "stream",
          "name": "stdout",
          "text": [
            "Drive already mounted at /content/drive; to attempt to forcibly remount, call drive.mount(\"/content/drive\", force_remount=True).\n"
          ]
        }
      ]
    },
    {
      "cell_type": "code",
      "source": [
        "!cp checkpoint.pth /content/drive/MyDrive"
      ],
      "metadata": {
        "id": "84PcPxKQrVWj"
      },
      "execution_count": null,
      "outputs": []
    }
  ],
  "metadata": {
    "accelerator": "GPU",
    "colab": {
      "provenance": []
    },
    "kernelspec": {
      "display_name": "Python 3",
      "name": "python3"
    },
    "language_info": {
      "name": "python"
    }
  },
  "nbformat": 4,
  "nbformat_minor": 0
}